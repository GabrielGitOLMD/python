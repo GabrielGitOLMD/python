{
 "cells": [
  {
   "cell_type": "markdown",
   "metadata": {},
   "source": [
    "## Revisao\n",
    "- como somar um numero?\n",
    "- qual passo ideal para fazer as operaçoes matematicas\n",
    "- converter o input para um numeor inteiro\n",
    "- qual tipo de dade retorna de uma divisao"
   ]
  },
  {
   "cell_type": "code",
   "execution_count": 10,
   "metadata": {},
   "outputs": [
    {
     "name": "stdout",
     "output_type": "stream",
     "text": [
      "divisao inteira :  1\n",
      "divisao normal :  1.0\n",
      "resto:  0\n",
      "exponenciaçao :  3125\n"
     ]
    }
   ],
   "source": [
    "n1 = input(\"digite o primero numero: \")\n",
    "n2 = input(\"digite o segundo numero: \")\n",
    "\n",
    "n1= int (n1)\n",
    "n2 = int (n2)\n",
    "\n",
    "divisao_inteira = n1 // n2\n",
    "divisao = n1/ n2\n",
    "resto = n1 % n2\n",
    "expo = n1 ** n2\n",
    "\n",
    "print(\"divisao inteira : \",divisao_inteira)\n",
    "print(\"divisao normal : \",divisao)\n",
    "print(\"resto: \",resto)\n",
    "print(\"exponenciaçao : \", expo)"
   ]
  },
  {
   "cell_type": "code",
   "execution_count": 11,
   "metadata": {},
   "outputs": [
    {
     "name": "stdout",
     "output_type": "stream",
     "text": [
      "10 - 10 é  0\n",
      "recebendo 10 é  10\n",
      "multiplicado por 10 é  100\n",
      "dividido por 10 é:  10.0\n",
      "dividido por de com // 1.0\n"
     ]
    }
   ],
   "source": [
    "valor = 10\n",
    "valor -=10\n",
    "print (\"10 - 10 é \",valor)\n",
    "\n",
    "valor += 10\n",
    "print (\"recebendo 10 é \",valor)\n",
    "\n",
    "valor *=10\n",
    "print (\"multiplicado por 10 é \", valor)\n",
    "\n",
    "valor /=10\n",
    "print(\"dividido por 10 é: \",valor)\n",
    "\n",
    "valor //=10\n",
    "print(\"dividido por de com //\",valor)"
   ]
  },
  {
   "cell_type": "markdown",
   "metadata": {},
   "source": [
    "## atividade \n",
    "- crie um programa para o boletim de notas do aluno . guarde o nome do aluno, as notas de caulcule a media final do aluno\n",
    "- disciplinas:\n",
    "- matematica\n",
    "- portugues\n",
    "- geografia\n",
    "- historia\n",
    "- fisica\n",
    "- Ao obter as notas e a media das notas, imprima o boletem do aluno informando as notas materias e com quanto ele ficou de media"
   ]
  },
  {
   "cell_type": "markdown",
   "metadata": {},
   "source": []
  },
  {
   "cell_type": "code",
   "execution_count": 12,
   "metadata": {},
   "outputs": [
    {
     "name": "stdout",
     "output_type": "stream",
     "text": [
      "digite as notas do aluno em cada materia: \n",
      "a media do aluno 5 é : 5.0\n",
      "a nota do aluno em matematica é:  5.0\n"
     ]
    }
   ],
   "source": [
    "nome  = input(\"digite o nome do aluno: \")\n",
    "\n",
    "print (\"digite as notas do aluno em cada materia: \")\n",
    "\n",
    "nota1 = input(\"digite a nota de matematica: \")\n",
    "nota1 = float(nota1)\n",
    " \n",
    "nota2 = input(\"digita a nota de portugues: \")\n",
    "nota2 = float(nota2)\n",
    "\n",
    "nota3 = input(\"digite a nota de geografia: \")\n",
    "nota3 = float(nota3)\n",
    "\n",
    "nota4 = input(\"digite a nota de historia: \")\n",
    "nota4 =float (nota4)\n",
    " \n",
    "nota5 = input(\"digite a nota de fisica: \")\n",
    "nota5 = float(nota5)\n",
    "\n",
    "media = (nota1 + nota2 + nota3 + nota4 + nota5) /5\n",
    "\n",
    "print (f\"a media do aluno {nome} é : {media}\")\n",
    "print(\"a nota do aluno em matematica é: \",nota1)"
   ]
  },
  {
   "cell_type": "code",
   "execution_count": 13,
   "metadata": {},
   "outputs": [
    {
     "name": "stdout",
     "output_type": "stream",
     "text": [
      "é impar\n",
      "finalizou o codigo\n"
     ]
    }
   ],
   "source": [
    "numero = float(input(\"digite seu numero \"))\n",
    "if numero % 2==0:\n",
    "    print('é par')\n",
    "else:\n",
    "    print('é impar')\n",
    "print('finalizou o codigo')"
   ]
  },
  {
   "cell_type": "code",
   "execution_count": 14,
   "metadata": {},
   "outputs": [
    {
     "name": "stdout",
     "output_type": "stream",
     "text": [
      "carga ok\n",
      "finalizau o codigo\n"
     ]
    }
   ],
   "source": [
    "carga = float (input(\"qual é a carga em kg no elavador?\"))\n",
    "pessoa = float(input(\"qual é o peso da pessoa no elevador\"))\n",
    "\n",
    "ecarga = carga + pessoa\n",
    "\n",
    "if ecarga > 300 :\n",
    "    print('elevador sobrecarregado ')\n",
    "elif ecarga <= 0:\n",
    "    print('elevador vazio')\n",
    "else:\n",
    "    print('carga ok')\n",
    "    print('finalizau o codigo')"
   ]
  },
  {
   "cell_type": "code",
   "execution_count": 22,
   "metadata": {},
   "outputs": [
    {
     "name": "stdout",
     "output_type": "stream",
     "text": [
      "aluno gabriel santana reprovado,peger boletin aconpanhado dos pais.\n"
     ]
    }
   ],
   "source": [
    "nome = str(input(\"digite o nome do aluno\"))\n",
    "idade = int(input(\"digite a idade do aluno\"))\n",
    "cpf = int(input(\"digite o cpf do aluno\"))\n",
    "nota1 = float(input(f\"informe a nota do primeiro bimestre do aluno {nome}\"))\n",
    "nota2 = float(input(f\"digite a segunda nota do aluno do aluno {nome}\"))\n",
    "nota3 = float(input(f\"digite a terceira nota do aluno do aluno {nome}\"))\n",
    "nota4 = float(input(f\"digite a terceira nota do aluno do aluno{nome}\"))\n",
    "media = (nota1 + nota2 + nota3 + nota4)/4\n",
    "\n",
    "if idade >= 18 and media >= 7:\n",
    "    print(f\"o aluno pode pegar o boletinho com nota {media} , e suas notas sao {nota1},{nota2},{nota3},{nota4}\")\n",
    "\n",
    " \n",
    "\n",
    "   \n",
    "elif idade>=18 and media>=7:\n",
    "    print(f\"o aluno {nome} foi aprovado com nota {media}, e suas notas sao {nota1},{nota2},{nota3},{nota4}\")\n",
    "\n",
    "\n",
    "\n",
    "elif idade>=18 and media >= 5:\n",
    "    print(f\"o aluno {nome} está de recuperação com nota {media}, e suas notas sao {nota1},{nota2},{nota3},{nota4}\")\n",
    "\n",
    "    \n",
    "else :\n",
    "    print (f\"aluno {nome} reprovado,peger boletin aconpanhado dos pais.\")\n",
    "\n",
    "\n"
   ]
  },
  {
   "cell_type": "markdown",
   "metadata": {},
   "source": [
    "## Desafio 3\n",
    "- Crie um sistema para coletar os dados do aluno, (nome, idade, cpf), em seguida solicite as notas dos 4 bimestres da diciplina de Python que o aluno teve para verificar a MEDIA.\n",
    "    - Media para aprovação >= 7\n",
    "    - Media para recuperação >= 5\n",
    "    - Media para reprovação = <5\n",
    "- Para retirar o boletim de notas, o aluno precisa ser maior de idade(18) e caso não seja, somente os pais podem retirar o boletim.\n",
    "    - Imprima as informações do aluno\n",
    "    - Imprima as notas do aluno em cada bimestre\n",
    "    - Imprima a situação do aluno (aprovado, reprovado, recuperação)\n",
    "    - Imprima se o boletim sera retirado pelos pais ou p"
   ]
  }
 ],
 "metadata": {
  "kernelspec": {
   "display_name": ".venv",
   "language": "python",
   "name": "python3"
  },
  "language_info": {
   "codemirror_mode": {
    "name": "ipython",
    "version": 3
   },
   "file_extension": ".py",
   "mimetype": "text/x-python",
   "name": "python",
   "nbconvert_exporter": "python",
   "pygments_lexer": "ipython3",
   "version": "3.12.4"
  }
 },
 "nbformat": 4,
 "nbformat_minor": 2
}
